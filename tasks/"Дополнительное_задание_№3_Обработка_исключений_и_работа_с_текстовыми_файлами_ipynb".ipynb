{
  "cells": [
    {
      "cell_type": "markdown",
      "metadata": {
        "id": "view-in-github",
        "colab_type": "text"
      },
      "source": [
        "<a href=\"https://colab.research.google.com/github/tomioka52q/univercity/blob/main/tasks/%22%D0%94%D0%BE%D0%BF%D0%BE%D0%BB%D0%BD%D0%B8%D1%82%D0%B5%D0%BB%D1%8C%D0%BD%D0%BE%D0%B5_%D0%B7%D0%B0%D0%B4%D0%B0%D0%BD%D0%B8%D0%B5_%E2%84%963_%D0%9E%D0%B1%D1%80%D0%B0%D0%B1%D0%BE%D1%82%D0%BA%D0%B0_%D0%B8%D1%81%D0%BA%D0%BB%D1%8E%D1%87%D0%B5%D0%BD%D0%B8%D0%B9_%D0%B8_%D1%80%D0%B0%D0%B1%D0%BE%D1%82%D0%B0_%D1%81_%D1%82%D0%B5%D0%BA%D1%81%D1%82%D0%BE%D0%B2%D1%8B%D0%BC%D0%B8_%D1%84%D0%B0%D0%B9%D0%BB%D0%B0%D0%BC%D0%B8_ipynb%22.ipynb\" target=\"_parent\"><img src=\"https://colab.research.google.com/assets/colab-badge.svg\" alt=\"Open In Colab\"/></a>"
      ]
    },
    {
      "cell_type": "markdown",
      "id": "bb332bf9",
      "metadata": {
        "id": "bb332bf9"
      },
      "source": [
        "# **Дополнительное задание №3. Обработка исключений и работа с текстовыми файлами**"
      ]
    },
    {
      "cell_type": "markdown",
      "id": "aa6808db",
      "metadata": {
        "id": "aa6808db"
      },
      "source": [
        "**БАЗА:**\n",
        "\n",
        "- **Обработка исключений** позволяет перехватывать и обрабатывать ошибки, возникающие при выполнении программы, предотвращая её аварийное завершение.\n",
        "- **Работа с файлами** - важный навык для чтения, записи и обработки текстовой информации в Python.\n",
        "\n",
        "---"
      ]
    },
    {
      "cell_type": "markdown",
      "id": "2478deca",
      "metadata": {
        "id": "2478deca"
      },
      "source": [
        "## **I. Обработка исключений**"
      ]
    },
    {
      "cell_type": "markdown",
      "id": "0ab0b851",
      "metadata": {
        "id": "0ab0b851"
      },
      "source": [
        "### **Пункт №1. Обработка некорректного индекса (IndexError)**"
      ]
    },
    {
      "cell_type": "markdown",
      "id": "46e69e1f",
      "metadata": {
        "id": "46e69e1f"
      },
      "source": [
        "Создайте список из нескольких элементов (например, [10, 20, 30]). Попросите пользователя ввести индекс элемента, который нужно вывести. Если пользователь введёт индекс, выходящий за границы списка, перехватите IndexError и сообщите об этом.\n",
        "\n",
        "**ОБЯЗАТЕЛЬНО:**\n",
        "- Создайте список из минимум 5 элементов\n",
        "- Покажите содержимое списка перед работой\n",
        "- Протестируйте минимум 4 случая (корректный индекс, отрицательный, слишком большой, нечисловое значение)"
      ]
    },
    {
      "cell_type": "code",
      "execution_count": null,
      "id": "724c5954",
      "metadata": {
        "id": "724c5954",
        "outputId": "01b297ea-3a3c-4391-c51c-3b6a3b8cdb35",
        "colab": {
          "base_uri": "https://localhost:8080/"
        }
      },
      "outputs": [
        {
          "output_type": "stream",
          "name": "stdout",
          "text": [
            "Элементы списка: [1, 2, 3, 4, 5]\n",
            "Длина списка: 5\n",
            "Индексы: от 0 до 4\n",
            "\n",
            "Индекс элемента:2\n",
            "Элемент с индексом 2: 3\n"
          ]
        }
      ],
      "source": [
        "elem = [1, 2, 3, 4, 5]\n",
        "print(\"Элементы списка:\", elem)\n",
        "print(\"Длина списка:\", len(elem))\n",
        "print(\"Индексы: от 0 до\", len(elem)-1)\n",
        "print()\n",
        "\n",
        "try:\n",
        "  index = input('Индекс элемента:')\n",
        "  index = int(index)\n",
        "  element = elem[index]\n",
        "  print(f'Элемент с индексом {index}: {element}')\n",
        "\n",
        "except ValueError:\n",
        "  print('Не числовое значение!')\n",
        "except IndexError:\n",
        "  print(f'Индекса {index} нет в диапозоне списка')\n",
        "except Exception as e:\n",
        "  print('Неопределенная ошибка')"
      ]
    },
    {
      "cell_type": "markdown",
      "id": "7ac84eec",
      "metadata": {
        "id": "7ac84eec"
      },
      "source": [
        "---"
      ]
    },
    {
      "cell_type": "markdown",
      "id": "f8bfb6e1",
      "metadata": {
        "id": "f8bfb6e1"
      },
      "source": [
        "### **Пункт №2. Обработка исключений в цикле**"
      ]
    },
    {
      "cell_type": "markdown",
      "id": "63c3b706",
      "metadata": {
        "id": "63c3b706"
      },
      "source": [
        "Напишите программу, которая запрашивает у пользователя числа и добавляет их в список.\n",
        "- Если пользователь вводит некорректные данные, программа должна выводить сообщение об ошибке и продолжать работу.\n",
        "- Для выхода из программы пользователь должен ввести \"стоп\".\n",
        "\n",
        "**ОБЯЗАТЕЛЬНО:**\n",
        "- Покажите процесс ввода минимум 7 значений (включая ошибочные)\n",
        "- Выведите финальный список и статистику (сколько чисел введено успешно, сколько ошибок)"
      ]
    },
    {
      "cell_type": "markdown",
      "source": [
        "\n",
        "\n",
        "```\n",
        "# Пример:\n",
        "# Введите число: 10\n",
        "# Введите число: текст (Ошибка: это не число)\n",
        "# Введите число: стоп\n",
        "# Итоговый список: [10]\n",
        "```\n",
        "\n"
      ],
      "metadata": {
        "id": "aiWaEPOuoHDS"
      },
      "id": "aiWaEPOuoHDS"
    },
    {
      "cell_type": "code",
      "execution_count": null,
      "id": "31448e09",
      "metadata": {
        "id": "31448e09",
        "outputId": "01e81090-38c5-48da-d1d8-da7229d9aafb",
        "colab": {
          "base_uri": "https://localhost:8080/"
        }
      },
      "outputs": [
        {
          "output_type": "stream",
          "name": "stdout",
          "text": [
            "Введите число:1\n",
            "\n",
            "Введите число:2\n",
            "\n",
            "Введите число:ф\n",
            "Ошибка: 'ф' - это не число\n",
            "\n",
            "Введите число:1ю4\n",
            "Ошибка: '1ю4' - это не число\n",
            "\n",
            "Введите число:3\n",
            "\n",
            "Введите число:6\n",
            "\n",
            "Введите число:10\n",
            "\n",
            "Введите число:стоп\n",
            "Итоговый список: [1.0, 2.0, 3.0, 6.0, 10.0]\n",
            "Без ошибок: 5\n",
            "Количество ошибок: 2\n"
          ]
        }
      ],
      "source": [
        "num = []\n",
        "success = 0\n",
        "error = 0\n",
        "while True:\n",
        "  user = input('Введите число:')\n",
        "\n",
        "  if user.lower() == 'стоп':\n",
        "    break\n",
        "\n",
        "  try:\n",
        "    number = float(user)\n",
        "    num.append(number)\n",
        "    success += 1\n",
        "\n",
        "  except ValueError:\n",
        "    print(f\"Ошибка: '{user}' - это не число\")\n",
        "    error += 1\n",
        "  print()\n",
        "print(f\"Итоговый список: {num}\")\n",
        "print(f\"Без ошибок: {success}\")\n",
        "print(f\"Количество ошибок: {error}\")\n"
      ]
    },
    {
      "cell_type": "markdown",
      "metadata": {
        "id": "Yv-FNYTEp0vV"
      },
      "source": [
        "---"
      ],
      "id": "Yv-FNYTEp0vV"
    },
    {
      "cell_type": "markdown",
      "id": "5971f85d",
      "metadata": {
        "id": "5971f85d"
      },
      "source": [
        "### **Пункт №3**"
      ]
    },
    {
      "cell_type": "markdown",
      "id": "b1457074",
      "metadata": {
        "id": "b1457074"
      },
      "source": [
        "Создайте функцию `get_list_element(lst, index)`, которая безопасно извлекает элемент списка по индексу с использованием блоков `try`, `except`, `else` и `finally`.\n",
        "\n",
        "Функция должна:\n",
        "- Обрабатывать выход за пределы списка\n",
        "- Обрабатывать некорректный тип индекса\n",
        "- Выводить сообщение о попытке доступа в блоке `finally`\n",
        "\n",
        "**ОБЯЗАТЕЛЬНО:**\n",
        "- Выведите результаты для минимум 4 различных случаев (успешный доступ, выход за границы, отрицательный индекс, нечисловой индекс)\n",
        "- Покажите, что блок `finally` выполняется всегда\n",
        "\n",
        "```python\n",
        "# Пример использования:\n",
        "my_list = [1, 2, 3, 4, 5]\n",
        "get_list_element(my_list, 2)   # Вывод: \"Элемент: 3\", \"Попытка доступа завершена\"\n",
        "get_list_element(my_list, 10)  # Вывод: \"Индекс вне диапазона\", \"Попытка доступа завершена\"\n",
        "```"
      ]
    },
    {
      "cell_type": "code",
      "execution_count": null,
      "id": "1c067cf3",
      "metadata": {
        "id": "1c067cf3",
        "outputId": "0a424907-0a99-4e5c-a528-4ca397515356",
        "colab": {
          "base_uri": "https://localhost:8080/"
        }
      },
      "outputs": [
        {
          "output_type": "stream",
          "name": "stdout",
          "text": [
            "\n",
            "1. успешный доступ:\n",
            "\n",
            "[1, 2, 3, 4, 5] по индексу '2'\n",
            "Элемент с индексом 2: 3\n",
            "Завершено\n",
            "\n",
            "2. выход за границы\n",
            "\n",
            "[1, 2, 3, 4, 5] по индексу '10'\n",
            "Индекс 10 вне диапазона\n",
            "Завершено\n",
            "\n",
            "3. отрицательный индекс\n",
            "\n",
            "[1, 2, 3, 4, 5] по индексу '-10'\n",
            "Отрицательный индекс -10 вне диапазона\n",
            "Завершено\n",
            "\n",
            "4. нечисловой индекс\n",
            "\n",
            "[1, 2, 3, 4, 5] по индексу '1.234'\n",
            "Ошибка типа: list indices must be integers or slices, not float\n",
            "Завершено\n"
          ]
        }
      ],
      "source": [
        "def get_list_element(lst, index):\n",
        "  print(f\"\\n{lst} по индексу '{index}'\")\n",
        "  try:\n",
        "    if isinstance(index, str):\n",
        "      index = int(index)\n",
        "    element = lst[index]\n",
        "  except ValueError:\n",
        "    print(f\"Индекс '{index}' не число!\")\n",
        "  except IndexError:\n",
        "    if index >= 0:\n",
        "      print(f\"Индекс {index} вне диапазона\")\n",
        "    else:\n",
        "      print(f\"Отрицательный индекс {index} вне диапазона\")\n",
        "  except TypeError as e:\n",
        "        print(f\"Ошибка типа: {e}\")\n",
        "  else:\n",
        "        print(f\"Элемент с индексом {index}: {element}\")\n",
        "        return element\n",
        "  finally:\n",
        "    print('Завершено')\n",
        "\n",
        "elem = [1, 2, 3, 4, 5]\n",
        "print(\"\\n1. успешный доступ:\")\n",
        "result1 = get_list_element(elem, 2)\n",
        "print(\"\\n2. выход за границы\")\n",
        "result2 = get_list_element(elem, 10)\n",
        "print(\"\\n3. отрицательный индекс\")\n",
        "result3 = get_list_element(elem, -10)\n",
        "print(\"\\n4. нечисловой индекс\")\n",
        "result3 = get_list_element(elem, 1.234)"
      ]
    },
    {
      "cell_type": "markdown",
      "id": "b5bb39c7",
      "metadata": {
        "id": "b5bb39c7"
      },
      "source": [
        "---"
      ]
    },
    {
      "cell_type": "markdown",
      "id": "b0972d59",
      "metadata": {
        "id": "b0972d59"
      },
      "source": [
        "## **II. Работа с текстовыми файлами**"
      ]
    },
    {
      "cell_type": "markdown",
      "id": "35729435",
      "metadata": {
        "id": "35729435"
      },
      "source": [
        "### **Пункт №1. Запись в файл**"
      ]
    },
    {
      "cell_type": "markdown",
      "id": "3121365f",
      "metadata": {
        "id": "3121365f"
      },
      "source": [
        "Напишите программу, которая запрашивает у пользователя строку и записывает её в файл output.txt в режиме дозаписи.\n",
        "\n",
        "**ОБЯЗАТЕЛЬНО:**\n",
        "- Запросите у пользователя минимум 3 строки\n",
        "- Покажите содержимое файла после записи"
      ]
    },
    {
      "cell_type": "code",
      "execution_count": 1,
      "id": "cbce6c5f",
      "metadata": {
        "id": "cbce6c5f",
        "outputId": "104bdac8-ebf4-4a6e-ca4a-e66531aa61b9",
        "colab": {
          "base_uri": "https://localhost:8080/"
        }
      },
      "outputs": [
        {
          "output_type": "stream",
          "name": "stdout",
          "text": [
            "строка 1:Hello\n",
            "строка 2:World\n",
            "строка 3:!\n",
            "Hello\n",
            "World\n",
            "!\n",
            "\n"
          ]
        }
      ],
      "source": [
        "for i in range(3):\n",
        "  text = input(f'строка {i+1}:')\n",
        "  with open('output.txt', 'a', encoding = 'utf8') as file:\n",
        "    file.write(text + '\\n')\n",
        "with open('output.txt', 'r', encoding='utf-8') as file:\n",
        "    strings = file.read()\n",
        "    print(strings)"
      ]
    },
    {
      "cell_type": "markdown",
      "id": "361b3d2b",
      "metadata": {
        "id": "361b3d2b"
      },
      "source": [
        "---"
      ]
    },
    {
      "cell_type": "markdown",
      "id": "cce864b4",
      "metadata": {
        "id": "cce864b4"
      },
      "source": [
        "### **Пункт №2. Чтение из файла**"
      ]
    },
    {
      "cell_type": "markdown",
      "id": "4fc83b82",
      "metadata": {
        "id": "4fc83b82"
      },
      "source": [
        "Напишите программу, которая открывает файл output.txt и выводит его содержимое на экран.\n",
        "\n",
        "**ОБЯЗАТЕЛЬНО:**\n",
        "- Создайте файл с минимум 5 строками текста\n",
        "- Покажите содержимое файла целиком\n",
        "- Обработайте случай отсутствующего файла"
      ]
    },
    {
      "cell_type": "code",
      "execution_count": 4,
      "id": "df27a986",
      "metadata": {
        "id": "df27a986",
        "outputId": "97e31e59-9365-4ed3-8a11-2e6daf1bac92",
        "colab": {
          "base_uri": "https://localhost:8080/"
        }
      },
      "outputs": [
        {
          "output_type": "stream",
          "name": "stdout",
          "text": [
            "Строка 1: Hello\n",
            "Строка 2: world\n",
            "Строка 3: OMG\n",
            "Строка 4: WOW\n",
            "Строка 5: IMAO\n",
            "\n"
          ]
        }
      ],
      "source": [
        "try:\n",
        "  with open('output.txt', 'r', encoding='utf-8') as file:\n",
        "        strings = file.read()\n",
        "  print(strings)\n",
        "\n",
        "except FileNotFoundError:\n",
        "    print(\"Файл output.txt не найден!\")\n",
        "with open('output.txt', 'w', encoding='utf-8') as file:\n",
        "        lines = [\n",
        "            \"Строка 1: Hello\",\n",
        "            \"Строка 2: world\",\n",
        "            \"Строка 3: OMG\",\n",
        "            \"Строка 4: WOW\",\n",
        "            \"Строка 5: IMAO\"\n",
        "        ]\n",
        "        for line in lines:\n",
        "            file.write(line + '\\n')\n"
      ]
    },
    {
      "cell_type": "markdown",
      "id": "2be296a2",
      "metadata": {
        "id": "2be296a2"
      },
      "source": [
        "---"
      ]
    },
    {
      "cell_type": "markdown",
      "id": "045696ba",
      "metadata": {
        "id": "045696ba"
      },
      "source": [
        "### **Пункт №3. Подсчет строк в файле**"
      ]
    },
    {
      "cell_type": "markdown",
      "id": "570ac3e9",
      "metadata": {
        "id": "570ac3e9"
      },
      "source": [
        "Напишите программу, которая открывает файл output.txt и подсчитывает количество строк в нём.\n",
        "\n",
        "**ОБЯЗАТЕЛЬНО:**\n",
        "- Создайте тестовый файл с известным количеством строк (минимум 10)\n",
        "- Покажите первые 3 строки файла\n",
        "- Выведите общее количество строк\n",
        "- Выведите количество непустых строк"
      ]
    },
    {
      "cell_type": "code",
      "execution_count": null,
      "id": "84aa205a",
      "metadata": {
        "id": "84aa205a",
        "outputId": "88559301-a592-40a4-afe2-c22b4936e0b2",
        "colab": {
          "base_uri": "https://localhost:8080/"
        }
      },
      "outputs": [
        {
          "output_type": "stream",
          "name": "stdout",
          "text": [
            "Всего строк в файле: 10\n",
            "Непустых строк: 8\n",
            "Пустых строк: 2\n",
            "\n",
            "Первые 3 строки файла:\n",
            "1: Первая строка\n",
            "2: Вторая строка\n",
            "3: Третья строка\n"
          ]
        }
      ],
      "source": [
        "try:\n",
        "    with open('output.txt', 'r', encoding='utf-8') as file:\n",
        "        lines = file.readlines()\n",
        "\n",
        "    empty = [line for line in lines if line.strip() != '']\n",
        "\n",
        "    print(f\"Всего строк в файле: {len(lines)}\")\n",
        "    print(f\"Непустых строк: {len(empty)}\")\n",
        "    print(f\"Пустых строк: {len(lines) - len(empty)}\")\n",
        "\n",
        "    print(\"\\nПервые 3 строки файла:\")\n",
        "    for i in range(min(3, len(lines))):\n",
        "        strings = lines[i].strip()\n",
        "        print(f\"{i+1}: {strings}\")\n",
        "except FileNotFoundError:\n",
        "    print(\"ОШИБКА: Файл output.txt не найден!\")\n",
        "\n",
        "    with open('output.txt', 'w', encoding='utf-8') as file:\n",
        "        for i in range(10):\n",
        "            if i in [3, 6]:\n",
        "                file.write('\\n')\n",
        "            else:\n",
        "                file.write(f\"Строка номер {i+1}\\n\")\n",
        "\n"
      ]
    },
    {
      "cell_type": "markdown",
      "id": "94c6dcb0",
      "metadata": {
        "id": "94c6dcb0"
      },
      "source": [
        "---"
      ]
    },
    {
      "cell_type": "markdown",
      "id": "56f2a74e",
      "metadata": {
        "id": "56f2a74e"
      },
      "source": [
        "### **Пункт №4. Копирование содержимого файла**"
      ]
    },
    {
      "cell_type": "markdown",
      "id": "ed736046",
      "metadata": {
        "id": "ed736046"
      },
      "source": [
        "Напишите программу, которая копирует содержимое файла input.txt в файл output.txt.\n",
        "\n",
        "**ОБЯЗАТЕЛЬНО:**\n",
        "- Создайте исходный файл с тестовым содержимым (минимум 5 строк)\n",
        "- Покажите содержимое исходного файла\n",
        "- Выполните копирование\n",
        "- Покажите содержимое скопированного файла\n",
        "- Обработайте случай отсутствия исходного файла"
      ]
    },
    {
      "cell_type": "code",
      "execution_count": 5,
      "id": "31bd8a06",
      "metadata": {
        "id": "31bd8a06",
        "outputId": "fb3497e7-db37-4245-fb52-05c61ad0a1df",
        "colab": {
          "base_uri": "https://localhost:8080/"
        }
      },
      "outputs": [
        {
          "output_type": "stream",
          "name": "stdout",
          "text": [
            "Строка 1:\n",
            "Строка 2:\n",
            "Строка 3:\n",
            "Строка 4:\n",
            "Строка 5:\n",
            "\n",
            "Копирование завершено\n",
            "Строка 1:\n",
            "Строка 2:\n",
            "Строка 3:\n",
            "Строка 4:\n",
            "Строка 5:\n",
            "\n"
          ]
        }
      ],
      "source": [
        "# Создаем исходный файл с 5 строками\n",
        "with open('input.txt', 'w', encoding='utf-8') as f:\n",
        "    f.write(\"Строка 1:\\n\")\n",
        "    f.write(\"Строка 2:\\n\")\n",
        "    f.write(\"Строка 3:\\n\")\n",
        "    f.write(\"Строка 4:\\n\")\n",
        "    f.write(\"Строка 5:\\n\")\n",
        "try:\n",
        "    with open('input.txt', 'r', encoding='utf-8') as f:\n",
        "        print(f.read())\n",
        "except FileNotFoundError:\n",
        "    print(\"Файл input.txt не найден\")\n",
        "try:\n",
        "    with open('input.txt', 'r', encoding='utf-8') as source:\n",
        "        with open('output.txt', 'w', encoding='utf-8') as target:\n",
        "            target.write(source.read())\n",
        "    print(\"Копирование завершено\")\n",
        "except FileNotFoundError:\n",
        "    print(\"Файл input.txt не найден\")\n",
        "except Exception as e:\n",
        "    print(f\"Ошибка: {e}\")\n",
        "try:\n",
        "    with open('output.txt', 'r', encoding='utf-8') as f:\n",
        "        print(f.read())\n",
        "except FileNotFoundError:\n",
        "    print(\"Файл output.txt не найден\")\n"
      ]
    },
    {
      "cell_type": "markdown",
      "id": "2f7c8ee5",
      "metadata": {
        "id": "2f7c8ee5"
      },
      "source": [
        "---"
      ]
    },
    {
      "cell_type": "markdown",
      "id": "70ee398b",
      "metadata": {
        "id": "70ee398b"
      },
      "source": [
        "### **Пункт №5. Поиск слова в файле**"
      ]
    },
    {
      "cell_type": "markdown",
      "id": "c67f8987",
      "metadata": {
        "id": "c67f8987"
      },
      "source": [
        "Напишите программу, которая открывает файл output.txt и проверяет, содержится ли в нём слово, введённое пользователем.\n",
        "\n",
        "**ОБЯЗАТЕЛЬНО:**\n",
        "- Создайте файл с минимум 10 строками текста\n",
        "- Покажите содержимое файла\n",
        "- Протестируйте поиск минимум 5 различных слов\n",
        "- Выведите номера строк, где найдено слово\n",
        "- Покажите количество вхождений слова"
      ]
    },
    {
      "cell_type": "code",
      "execution_count": 9,
      "id": "d961bbf3",
      "metadata": {
        "id": "d961bbf3",
        "outputId": "ddfcac00-1caa-41fe-eee6-5aeac7dbacf1",
        "colab": {
          "base_uri": "https://localhost:8080/"
        }
      },
      "outputs": [
        {
          "output_type": "stream",
          "name": "stdout",
          "text": [
            "Строка крутая 1\n",
            "Строка 2\n",
            "Строка маленькая 3\n",
            "Строка 4\n",
            "Строка легкая 5\n",
            "Строка 6\n",
            "Строка простая 7\n",
            "Строка 8\n",
            "Строка 9\n",
            "Строка 10\n",
            "\n",
            "\n",
            "Введите слово: Строка\n",
            "\n",
            "Результат 'Строка':\n",
            "Строки: [1, 2, 3, 4, 5, 6, 7, 8, 9, 10]\n",
            "Всего вхождений: 10\n"
          ]
        }
      ],
      "source": [
        "# Создаем файл с 10 строками\n",
        "with open('output.txt', 'w', encoding='utf-8') as f:\n",
        "    lines = [\n",
        "        \"Строка крутая 1\",\n",
        "        \"Строка 2\",\n",
        "        \"Строка маленькая 3\",\n",
        "        \"Строка 4\",\n",
        "        \"Строка легкая 5\",\n",
        "        \"Строка 6\",\n",
        "        \"Строка простая 7\",\n",
        "        \"Строка 8\",\n",
        "        \"Строка 9\",\n",
        "        \"Строка 10\",\n",
        "    ]\n",
        "    for line in lines:\n",
        "        f.write(line + '\\n')\n",
        "\n",
        "with open('output.txt', 'r', encoding='utf-8') as f:\n",
        "    strings = f.read()\n",
        "    print(strings)\n",
        "\n",
        "\n",
        "user_word = input(\"\\nВведите слово: \")\n",
        "\n",
        "with open('output.txt', 'r', encoding='utf-8') as f:\n",
        "    lines = f.readlines()\n",
        "found_lines = []\n",
        "count = 0\n",
        "for i, line in enumerate(lines, 1):\n",
        "    if user_word.lower() in line.lower():\n",
        "        found_lines.append(i)\n",
        "        count += line.lower().count(user_word.lower())\n",
        "\n",
        "print(f\"\\nРезультат '{user_word}':\")\n",
        "if found_lines:\n",
        "    print(f\"Строки: {found_lines}\")\n",
        "    print(f\"Всего вхождений: {count}\")\n",
        "else:\n",
        "    print(\"Слово не найдено\")"
      ]
    },
    {
      "cell_type": "markdown",
      "id": "8d69c77a",
      "metadata": {
        "id": "8d69c77a"
      },
      "source": [
        "---"
      ]
    },
    {
      "cell_type": "markdown",
      "id": "0079e067",
      "metadata": {
        "id": "0079e067"
      },
      "source": [
        "### **Пункт №6. Чтение файла с обработкой FileNotFoundError**"
      ]
    },
    {
      "cell_type": "markdown",
      "id": "c3d27312",
      "metadata": {
        "id": "c3d27312"
      },
      "source": [
        "Напишите программу, которая запрашивает у пользователя имя файла и пытается открыть его. Если файла не существует, перехватите FileNotFoundError и выведите сообщение «Файл не найден!».\n",
        "\n",
        "**ОБЯЗАТЕЛЬНО:**\n",
        "- Протестируйте с существующим файлом\n",
        "- Протестируйте с несуществующим файлом\n",
        "- Покажите содержимое существующего файла"
      ]
    },
    {
      "cell_type": "code",
      "execution_count": null,
      "id": "0c262bd2",
      "metadata": {
        "id": "0c262bd2",
        "outputId": "96882ed0-949e-4a63-b757-9ac0cc7511f8",
        "colab": {
          "base_uri": "https://localhost:8080/"
        }
      },
      "outputs": [
        {
          "output_type": "stream",
          "name": "stdout",
          "text": [
            "Строка 1\n",
            "Строка 2\n",
            "Строка 3\n",
            "\n",
            "Файл не найден!\n",
            "Введите имя файла: output.txt\n",
            "Строка 1\n",
            "Строка 2\n",
            "Строка 3\n",
            "\n"
          ]
        }
      ],
      "source": [
        "with open('output.txt', 'w', encoding='utf-8') as f:\n",
        "    f.write(\"Строка 1\\n\")\n",
        "    f.write(\"Строка 2\\n\")\n",
        "    f.write(\"Строка 3\\n\")\n",
        "\n",
        "try:\n",
        "    with open('output.txt', 'r', encoding='utf-8') as file:\n",
        "        strings = file.read()\n",
        "    print(strings)\n",
        "except FileNotFoundError:\n",
        "    print(\"Файл не найден!\")\n",
        "\n",
        "try:\n",
        "    with open('no_file.txt', 'r', encoding='utf-8') as file:\n",
        "        strings = file.read()\n",
        "    print(strings)\n",
        "except FileNotFoundError:\n",
        "    print(\"Файл не найден!\")\n",
        "\n",
        "filename = input(\"Введите имя файла: \")\n",
        "\n",
        "try:\n",
        "    with open(filename, 'r', encoding='utf-8') as file:\n",
        "        strings = file.read()\n",
        "    print(strings)\n",
        "except FileNotFoundError:\n",
        "    print(\"Файл не найден!\")"
      ]
    },
    {
      "cell_type": "markdown",
      "id": "c3258b46",
      "metadata": {
        "id": "c3258b46"
      },
      "source": [
        "---"
      ]
    },
    {
      "cell_type": "markdown",
      "id": "02e0767b",
      "metadata": {
        "id": "02e0767b"
      },
      "source": [
        "### **Пункт №7. Подсчет статистики файла**"
      ]
    },
    {
      "cell_type": "markdown",
      "id": "1c33b711",
      "metadata": {
        "id": "1c33b711"
      },
      "source": [
        "Напишите функцию `file_statistics(filename)`, которая читает текстовый файл и возвращает словарь со статистикой:\n",
        "- Количество строк\n",
        "- Количество слов\n",
        "- Количество символов (с пробелами и без)\n",
        "\n",
        "**ОБЯЗАТЕЛЬНО:**\n",
        "- Создайте тестовый файл с минимум 5 строками текста\n",
        "- Выведите содержимое файла ДО обработки\n",
        "- Выведите полученную статистику\n",
        "- Обработайте случай несуществующего файла\n",
        "\n",
        "```python\n",
        "# Создание тестового файла\n",
        "test_content = \"\"\"Первая строка текста\n",
        "Вторая строка с большим количеством слов\n",
        "Третья строка\n",
        "Четвертая строка для теста\n",
        "Пятая и последняя строка\"\"\"\n",
        "\n",
        "# Сохраните в файл и продемонстрируйте работу\n",
        "```"
      ]
    },
    {
      "cell_type": "code",
      "execution_count": null,
      "id": "43bfd6b8",
      "metadata": {
        "id": "43bfd6b8",
        "outputId": "e874e3d4-5288-4659-c418-de44c2ebc554",
        "colab": {
          "base_uri": "https://localhost:8080/"
        }
      },
      "outputs": [
        {
          "output_type": "stream",
          "name": "stdout",
          "text": [
            "Первая строка текста\n",
            "Вторая строка с большим количеством слов\n",
            "Третья строка\n",
            "Четвертая строка для теста\n",
            "Пятая и последняя строка\n",
            "количество_строк: 5\n",
            "количество_слов: 19\n",
            "количество_символов_с_пробелами: 127\n",
            "количество_символов_без_пробелов: 113\n"
          ]
        }
      ],
      "source": [
        "def file_statistics(filename):\n",
        "    try:\n",
        "        with open(filename, 'r', encoding='utf-8') as file:\n",
        "            strings = file.read()\n",
        "\n",
        "        lines = strings.splitlines()\n",
        "        words = strings.split()\n",
        "\n",
        "        stats = {\n",
        "            'количество строк': len(lines),\n",
        "            'количество слов': len(words),\n",
        "            'количество символов c пробелами': len(strings),\n",
        "            'количество символов без пробелов': len(strings.replace(' ', ''))\n",
        "        }\n",
        "\n",
        "        return stats\n",
        "\n",
        "    except FileNotFoundError:\n",
        "        print(f\"Файл '{filename}' не найден!\")\n",
        "        return None\n",
        "\n",
        "test_content = \"\"\"Первая строка текста\n",
        "Вторая строка с большим количеством слов\n",
        "Третья строка\n",
        "Четвертая строка для теста\n",
        "Пятая и последняя строка\"\"\"\n",
        "\n",
        "with open('test_file.txt', 'w', encoding='utf-8') as f:\n",
        "    f.write(test_content)\n",
        "\n",
        "with open('test_file.txt', 'r', encoding='utf-8') as f:\n",
        "    print(f.read())\n",
        "\n",
        "stats = file_statistics('test_file.txt')\n",
        "if stats:\n",
        "    for key, value in stats.items():\n",
        "        print(f\"{key}: {value}\")\n"
      ]
    },
    {
      "cell_type": "markdown",
      "id": "903281dd",
      "metadata": {
        "id": "903281dd"
      },
      "source": [
        "---"
      ]
    },
    {
      "cell_type": "markdown",
      "id": "ad8b4ae4",
      "metadata": {
        "id": "ad8b4ae4"
      },
      "source": [
        "### **Пункт №8. Поиск и замена в файле**"
      ]
    },
    {
      "cell_type": "markdown",
      "id": "e5230d0a",
      "metadata": {
        "id": "e5230d0a"
      },
      "source": [
        "Напишите функцию `replace_in_file(filename, old_text, new_text)`, которая заменяет все вхождения `old_text` на `new_text` в файле и сохраняет результат в новый файл с префиксом \"modified_\".\n",
        "\n",
        "**ОБЯЗАТЕЛЬНО:**\n",
        "- Создайте файл с текстом, содержащим минимум 3 вхождения заменяемого слова\n",
        "- Выведите содержимое файла ДО замены\n",
        "- Выполните замену\n",
        "- Выведите содержимое файла ПОСЛЕ замены\n",
        "- Покажите количество произведенных замен"
      ]
    },
    {
      "cell_type": "code",
      "execution_count": 10,
      "id": "64a05e35",
      "metadata": {
        "id": "64a05e35",
        "outputId": "86ffa948-7946-4ef4-bd55-0283621f57e7",
        "colab": {
          "base_uri": "https://localhost:8080/"
        }
      },
      "outputs": [
        {
          "output_type": "stream",
          "name": "stdout",
          "text": [
            "Строка 1 ыыыы.\n",
            "Строка 2 гуд.\n",
            "Строка 3 аааа.\n",
            "Строка 4 азчтё тест.\n",
            "\n",
            "ЗАМЕНА: тест - проверка\n",
            "Количество замен: 1\n",
            "Файл: modified_example.txt\n",
            "Строка 1 ыыыы.\n",
            "Строка 2 гуд.\n",
            "Строка 3 аааа.\n",
            "Строка 4 азчтё проверка.\n"
          ]
        }
      ],
      "source": [
        "def replace_in_file(filename, old_text, new_text):\n",
        "    try:\n",
        "        with open(filename, 'r', encoding='utf-8') as file:\n",
        "            string = file.read()\n",
        "\n",
        "        count = string.count(old_text)\n",
        "        new_string = string.replace(old_text, new_text)\n",
        "\n",
        "        new_filename = f\"modified_{filename}\"\n",
        "\n",
        "        with open(new_filename, 'w', encoding='utf-8') as file:\n",
        "            file.write(new_string)\n",
        "\n",
        "        return count, new_filename\n",
        "\n",
        "    except FileNotFoundError:\n",
        "        print(f\"Файл {filename} не найден!\")\n",
        "        return 0, None\n",
        "\n",
        "test = \"\"\"Строка 1 ыыыы.\n",
        "Строка 2 гуд.\n",
        "Строка 3 аааа.\n",
        "Строка 4 азчтё тест.\"\"\"\n",
        "\n",
        "with open('example.txt', 'w', encoding='utf-8') as f:\n",
        "    f.write(test)\n",
        "with open('example.txt', 'r', encoding='utf-8') as f:\n",
        "    print(f.read())\n",
        "\n",
        "old_word = \"тест\"\n",
        "new_word = \"проверка\"\n",
        "count, new_file = replace_in_file('example.txt', old_word, new_word)\n",
        "print(f\"\\nЗАМЕНА: {old_word} - {new_word}\")\n",
        "print(f\"Количество замен: {count}\")\n",
        "print(f\"Файл: {new_file}\")\n",
        "\n",
        "with open(new_file, 'r', encoding='utf-8') as f:\n",
        "    print(f.read())\n"
      ]
    },
    {
      "cell_type": "markdown",
      "id": "f77b0568",
      "metadata": {
        "id": "f77b0568"
      },
      "source": [
        "---"
      ]
    },
    {
      "cell_type": "markdown",
      "id": "79a081b1",
      "metadata": {
        "id": "79a081b1"
      },
      "source": [
        "### **Пункт №9. Объединение файлов**"
      ]
    },
    {
      "cell_type": "markdown",
      "id": "599cee3c",
      "metadata": {
        "id": "599cee3c"
      },
      "source": [
        "Создайте функцию `merge_files(file_list, output_file)`, которая объединяет содержимое нескольких текстовых файлов в один, добавляя после каждого разделитель.\n",
        "\n",
        "**ОБЯЗАТЕЛЬНО:**\n",
        "- Создайте минимум 3 файла с разным содержимым\n",
        "- Выведите содержимое КАЖДОГО исходного файла\n",
        "- Выполните объединение\n",
        "- Выведите содержимое результирующего файла"
      ]
    },
    {
      "cell_type": "code",
      "execution_count": null,
      "id": "581b5868",
      "metadata": {
        "id": "581b5868",
        "outputId": "affe0536-961a-4a69-afb9-6eea93f811c2",
        "colab": {
          "base_uri": "https://localhost:8080/"
        }
      },
      "outputs": [
        {
          "output_type": "stream",
          "name": "stdout",
          "text": [
            "\n",
            "source1.txt:\n",
            "Первый файл\n",
            "Строка 1\n",
            "Строка 2\n",
            "Строка 3\n",
            "\n",
            "source2.txt:\n",
            "Второй файл\n",
            "Строка 4\n",
            "Строка 5\n",
            "Строка 6\n",
            "\n",
            "source3.txt:\n",
            "Третий файл\n",
            "Строка 7\n",
            "Строка 8\n",
            "Строка 9\n",
            "Файлы объединены в 'result.txt'\n",
            "Первый файл\n",
            "Строка 1\n",
            "Строка 2\n",
            "Строка 3\n",
            "\n",
            "\n",
            "Второй файл\n",
            "Строка 4\n",
            "Строка 5\n",
            "Строка 6\n",
            "\n",
            "\n",
            "Третий файл\n",
            "Строка 7\n",
            "Строка 8\n",
            "Строка 9\n"
          ]
        }
      ],
      "source": [
        "def merge_files(file_list, output_file):\n",
        "    try:\n",
        "        with open(output_file, 'w', encoding='utf-8') as out_file:\n",
        "            for i, filename in enumerate(file_list):\n",
        "                with open(filename, 'r', encoding='utf-8') as in_file:\n",
        "                    out_file.write(in_file.read())\n",
        "\n",
        "                if i < len(file_list) - 1:\n",
        "                    out_file.write(\"\\n\" +\"\\n\\n\")\n",
        "        print(f\"Файлы объединены в '{output_file}'\")\n",
        "        return True\n",
        "    except Exception as e:\n",
        "        print(f\"Ошибка: {e}\")\n",
        "        return False\n",
        "file1_content = \"\"\"Первый файл\n",
        "Строка 1\n",
        "Строка 2\n",
        "Строка 3\"\"\"\n",
        "\n",
        "file2_content = \"\"\"Второй файл\n",
        "Строка 4\n",
        "Строка 5\n",
        "Строка 6\"\"\"\n",
        "\n",
        "file3_content = \"\"\"Третий файл\n",
        "Строка 7\n",
        "Строка 8\n",
        "Строка 9\"\"\"\n",
        "\n",
        "with open('source1.txt', 'w', encoding='utf-8') as f:\n",
        "    f.write(file1_content)\n",
        "\n",
        "with open('source2.txt', 'w', encoding='utf-8') as f:\n",
        "    f.write(file2_content)\n",
        "\n",
        "with open('source3.txt', 'w', encoding='utf-8') as f:\n",
        "    f.write(file3_content)\n",
        "\n",
        "files = ['source1.txt', 'source2.txt', 'source3.txt']\n",
        "\n",
        "for filename in files:\n",
        "    print(f\"\\n{filename}:\")\n",
        "    with open(filename, 'r', encoding='utf-8') as f:\n",
        "        print(f.read())\n",
        "\n",
        "merge_files(files, 'result.txt')\n",
        "\n",
        "with open('result.txt', 'r', encoding='utf-8') as f:\n",
        "    print(f.read())\n"
      ]
    },
    {
      "cell_type": "markdown",
      "id": "eb866091",
      "metadata": {
        "id": "eb866091"
      },
      "source": [
        "---"
      ]
    }
  ],
  "metadata": {
    "colab": {
      "provenance": [],
      "include_colab_link": true
    },
    "language_info": {
      "name": "python"
    },
    "kernelspec": {
      "name": "python3",
      "display_name": "Python 3"
    }
  },
  "nbformat": 4,
  "nbformat_minor": 5
}