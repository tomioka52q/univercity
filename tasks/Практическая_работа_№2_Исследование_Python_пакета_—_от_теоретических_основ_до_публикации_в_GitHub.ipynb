{
  "cells": [
    {
      "cell_type": "markdown",
      "metadata": {
        "id": "view-in-github",
        "colab_type": "text"
      },
      "source": [
        "<a href=\"https://colab.research.google.com/github/tomioka52q/univercity/blob/main/tasks/%D0%9F%D1%80%D0%B0%D0%BA%D1%82%D0%B8%D1%87%D0%B5%D1%81%D0%BA%D0%B0%D1%8F_%D1%80%D0%B0%D0%B1%D0%BE%D1%82%D0%B0_%E2%84%962_%D0%98%D1%81%D1%81%D0%BB%D0%B5%D0%B4%D0%BE%D0%B2%D0%B0%D0%BD%D0%B8%D0%B5_Python_%D0%BF%D0%B0%D0%BA%D0%B5%D1%82%D0%B0_%E2%80%94_%D0%BE%D1%82_%D1%82%D0%B5%D0%BE%D1%80%D0%B5%D1%82%D0%B8%D1%87%D0%B5%D1%81%D0%BA%D0%B8%D1%85_%D0%BE%D1%81%D0%BD%D0%BE%D0%B2_%D0%B4%D0%BE_%D0%BF%D1%83%D0%B1%D0%BB%D0%B8%D0%BA%D0%B0%D1%86%D0%B8%D0%B8_%D0%B2_GitHub.ipynb\" target=\"_parent\"><img src=\"https://colab.research.google.com/assets/colab-badge.svg\" alt=\"Open In Colab\"/></a>"
      ]
    },
    {
      "cell_type": "markdown",
      "id": "31c35987",
      "metadata": {
        "id": "31c35987"
      },
      "source": [
        "# **Практическая работа №2. Исследование Python-пакета - от теоретических основ до публикации в GitHub**"
      ]
    },
    {
      "cell_type": "markdown",
      "id": "4d968065",
      "metadata": {
        "id": "4d968065"
      },
      "source": [
        "## **Цель работы**"
      ]
    },
    {
      "cell_type": "markdown",
      "id": "3f23c716",
      "metadata": {
        "id": "3f23c716"
      },
      "source": [
        "**Цель** этой практической работы заключается в изучении принципов функционирования пакетов в Python и публикации проекта в приватном репозитории на GitHub.\n",
        "\n",
        "**Задачи** включают:\n",
        "\n",
        "1. Исследование роли файлов `__init__.py` в структуре пакетов.\n",
        "2. Освоение работы с модульной структурой Python.\n",
        "3. Понимание и применение абсолютного и относительного импорта модулей.\n",
        "4. Создание и настройка локального Git-репозитория.\n",
        "5. Публикация проекта в приватном репозитории на GitHub с добавлением всех необходимых файлов и документации в формате Markdown в README.md.\n",
        "6. Управление доступом к репозиторию, включая добавление коллаборатора.\n",
        "\n",
        "Эти задачи помогут вам освоить все этапы работы с Python-пакетами, от их создания и исследования до управления версиями и совместной работы в закрытой среде."
      ]
    },
    {
      "cell_type": "markdown",
      "id": "ffb03f5a",
      "metadata": {
        "id": "ffb03f5a"
      },
      "source": [
        "## **Описание работы**"
      ]
    },
    {
      "cell_type": "markdown",
      "id": "18243b16",
      "metadata": {
        "id": "18243b16"
      },
      "source": [
        "Вы будете работать с уже созданным пакетом `calculator`, который имеет следующую структуру:\n",
        "\n",
        "    calculator/\n",
        "    ├── __init__.py\n",
        "    ├── basic/\n",
        "    │   ├── __init__.py\n",
        "    │   ├── addition.py\n",
        "    │   └── subtraction.py\n",
        "    └── advanced/\n",
        "        ├── __init__.py\n",
        "        ├── exponentiation.py\n",
        "        └── root.py"
      ]
    },
    {
      "cell_type": "markdown",
      "id": "63967923",
      "metadata": {
        "id": "63967923"
      },
      "source": [
        "**Содержимое файлов:**\n",
        "\n",
        "**`calculator/__init__.py`**"
      ]
    },
    {
      "cell_type": "code",
      "execution_count": null,
      "id": "dc7ad5d4",
      "metadata": {
        "id": "dc7ad5d4"
      },
      "outputs": [],
      "source": [
        "# __init__.py in calculator\n",
        "__all__ = [\"basic\", \"advanced\"]"
      ]
    },
    {
      "cell_type": "markdown",
      "id": "2ca97ca9",
      "metadata": {
        "id": "2ca97ca9"
      },
      "source": [
        "**`calculator/basic/__init__.py`**"
      ]
    },
    {
      "cell_type": "code",
      "execution_count": null,
      "id": "38c109a0",
      "metadata": {
        "id": "38c109a0"
      },
      "outputs": [],
      "source": [
        "# __init__.py in basic\n",
        "from .addition import add\n",
        "from .subtraction import subtract"
      ]
    },
    {
      "cell_type": "markdown",
      "id": "a3ffd41a",
      "metadata": {
        "id": "a3ffd41a"
      },
      "source": [
        "**`calculator/basic/addition.py`**"
      ]
    },
    {
      "cell_type": "code",
      "execution_count": null,
      "id": "7ed2e868",
      "metadata": {
        "id": "7ed2e868"
      },
      "outputs": [],
      "source": [
        "# addition.py\n",
        "def add(a, b):\n",
        "    return a + b"
      ]
    },
    {
      "cell_type": "markdown",
      "id": "81545127",
      "metadata": {
        "id": "81545127"
      },
      "source": [
        "**`calculator/basic/subtraction.py`**"
      ]
    },
    {
      "cell_type": "code",
      "execution_count": null,
      "id": "67003bfc",
      "metadata": {
        "id": "67003bfc"
      },
      "outputs": [],
      "source": [
        "# subtraction.py\n",
        "def subtract(a, b):\n",
        "    return a - b"
      ]
    },
    {
      "cell_type": "markdown",
      "id": "a7150f98",
      "metadata": {
        "id": "a7150f98"
      },
      "source": [
        "**`calculator/advanced/__init__.py`**"
      ]
    },
    {
      "cell_type": "code",
      "execution_count": null,
      "id": "7b82ebf9",
      "metadata": {
        "id": "7b82ebf9"
      },
      "outputs": [],
      "source": [
        "# __init__.py in advanced\n",
        "from .exponentiation import power\n",
        "from .root import square_root"
      ]
    },
    {
      "cell_type": "markdown",
      "id": "2710fe8b",
      "metadata": {
        "id": "2710fe8b"
      },
      "source": [
        "**`calculator/advanced/exponentiation.py`**"
      ]
    },
    {
      "cell_type": "code",
      "execution_count": null,
      "id": "9ba07d5b",
      "metadata": {
        "id": "9ba07d5b"
      },
      "outputs": [],
      "source": [
        "# exponentiation.py\n",
        "def power(a, b):\n",
        "    return a ** b"
      ]
    },
    {
      "cell_type": "markdown",
      "id": "80d53e6d",
      "metadata": {
        "id": "80d53e6d"
      },
      "source": [
        "**`calculator/advanced/root.py`**"
      ]
    },
    {
      "cell_type": "code",
      "execution_count": null,
      "id": "ea8f8d28",
      "metadata": {
        "id": "ea8f8d28"
      },
      "outputs": [],
      "source": [
        "# root.py\n",
        "def square_root(a):\n",
        "    return a ** 0.5"
      ]
    },
    {
      "cell_type": "markdown",
      "id": "d3d29b5c",
      "metadata": {
        "id": "d3d29b5c"
      },
      "source": [
        "**Пример использования пакета:**"
      ]
    },
    {
      "cell_type": "code",
      "execution_count": null,
      "id": "fb6c3f15",
      "metadata": {
        "id": "fb6c3f15"
      },
      "outputs": [],
      "source": [
        "# main.py\n",
        "from calculator.basic import add, subtract\n",
        "from calculator.advanced import power, square_root\n",
        "\n",
        "print(add(2, 3))             # Вывод: 5\n",
        "print(subtract(5, 2))        # Вывод: 3\n",
        "print(power(2, 3))           # Вывод: 8\n",
        "print(square_root(16))       # Вывод: 4.0"
      ]
    },
    {
      "cell_type": "markdown",
      "id": "bc7b0fc2",
      "metadata": {
        "id": "bc7b0fc2"
      },
      "source": [
        "## **Задания:**"
      ]
    },
    {
      "cell_type": "markdown",
      "id": "0d5236e4",
      "metadata": {
        "id": "0d5236e4"
      },
      "source": [
        "### **1. Исследование структуры пакета**"
      ]
    },
    {
      "cell_type": "markdown",
      "id": "682c1a97",
      "metadata": {
        "id": "682c1a97"
      },
      "source": [
        "**а.** Дополните схему дерева файлов и модулей пакета `calculator`, указав, какие модули и функции в них содержатся.\n",
        "\n",
        "    calculator/\n",
        "    ├── __init__.py\n",
        "    ├── basic/\n",
        "    │   ├── __init__.py\n",
        "    │   ├── addition.py\n",
        "    │   └── subtraction.py\n",
        "    └── advanced/\n",
        "        ├── __init__.py\n",
        "        ├── exponentiation.py\n",
        "        └── root.py\n",
        "\n"
      ]
    },
    {
      "cell_type": "markdown",
      "source": [],
      "metadata": {
        "id": "mQ5fqHuaUULu"
      },
      "id": "mQ5fqHuaUULu"
    },
    {
      "cell_type": "markdown",
      "source": [
        "calculator/\n",
        "├── __init__.py\n",
        "│   -__all__ = ['basic', 'advanced']\n",
        "├── basic/\n",
        "│   ├── __init__.py\n",
        "│   │   - __all__ = ['add', 'subtract']\n",
        "│   ├── addition.py\n",
        "│   │   - функция: add(a, b)\n",
        "│   └── subtraction.py\n",
        "│       - функция: subtract(a, b)\n",
        "└── advanced/\n",
        "    ├── __init__.py\n",
        "    │   - __all__ = ['power', 'square_root']\n",
        "    ├── exponentiation.py\n",
        "    │    - функция: power(base, exponent)\n",
        "    └── root.py\n",
        "        - функция: square_root(number)\n",
        "    "
      ],
      "metadata": {
        "id": "tSg8giaqUVNj"
      },
      "id": "tSg8giaqUVNj"
    },
    {
      "cell_type": "markdown",
      "source": [],
      "metadata": {
        "id": "e4a-jJ6qVuKz"
      },
      "id": "e4a-jJ6qVuKz"
    },
    {
      "cell_type": "markdown",
      "source": [
        "**б.** Объясните, какую роль играют файлы `__init__.py` в каждом каталоге пакета. Почему без них пакет не будет работать правильно?"
      ],
      "metadata": {
        "id": "rXUGL_f5UtCQ"
      },
      "id": "rXUGL_f5UtCQ"
    },
    {
      "cell_type": "markdown",
      "source": [
        "1. Превращают каталоги в пакеты\n",
        "2. Инициализирует пакеты\n",
        "3. Управляет импортом\n",
        "\n",
        "Без этих файлов пакет не будет работать правильно, потому что Python не распознает каталоги как пакеты и не сможет импортировать модули из них."
      ],
      "metadata": {
        "id": "WJHC-5qUWDVe"
      },
      "id": "WJHC-5qUWDVe"
    },
    {
      "cell_type": "markdown",
      "id": "29422cc8",
      "metadata": {
        "id": "29422cc8"
      },
      "source": [
        "### **2. Работа с `__init__.py`**"
      ]
    },
    {
      "cell_type": "markdown",
      "id": "3a1a8ac0",
      "metadata": {
        "id": "3a1a8ac0"
      },
      "source": [
        "**а.** Обратите внимание на использование переменной `__all__` в файле `calculator/__init__.py`. Объясните, как она влияет на импорт пакета.\n",
        "\n"
      ]
    },
    {
      "cell_type": "markdown",
      "source": [
        "Переменная __all__ в файле __init__.py определяет список имен, которые будут импортированы."
      ],
      "metadata": {
        "id": "LNfDwADqWRbv"
      },
      "id": "LNfDwADqWRbv"
    },
    {
      "cell_type": "markdown",
      "source": [
        "**б.** Удалите или закомментируйте строку `__all__ = [\"basic\", \"advanced\"]` в файле `calculator/__init__.py`. Попробуйте импортировать пакет снова:"
      ],
      "metadata": {
        "id": "y23edpV8U6Zu"
      },
      "id": "y23edpV8U6Zu"
    },
    {
      "cell_type": "code",
      "execution_count": 2,
      "id": "6c3ce464",
      "metadata": {
        "id": "6c3ce464",
        "outputId": "9cfd32f4-264f-4e9b-a6fd-7e5ea96dc8cc",
        "colab": {
          "base_uri": "https://localhost:8080/",
          "height": 331
        }
      },
      "outputs": [
        {
          "output_type": "error",
          "ename": "ModuleNotFoundError",
          "evalue": "No module named 'calculator'",
          "traceback": [
            "\u001b[0;31m---------------------------------------------------------------------------\u001b[0m",
            "\u001b[0;31mModuleNotFoundError\u001b[0m                       Traceback (most recent call last)",
            "\u001b[0;32m/tmp/ipython-input-782111236.py\u001b[0m in \u001b[0;36m<cell line: 0>\u001b[0;34m()\u001b[0m\n\u001b[0;32m----> 1\u001b[0;31m \u001b[0;32mfrom\u001b[0m \u001b[0mcalculator\u001b[0m \u001b[0;32mimport\u001b[0m \u001b[0mbasic\u001b[0m\u001b[0;34m\u001b[0m\u001b[0;34m\u001b[0m\u001b[0m\n\u001b[0m\u001b[1;32m      2\u001b[0m \u001b[0;32mfrom\u001b[0m \u001b[0mcalculator\u001b[0m \u001b[0;32mimport\u001b[0m \u001b[0;34m*\u001b[0m\u001b[0;34m\u001b[0m\u001b[0;34m\u001b[0m\u001b[0m\n",
            "\u001b[0;31mModuleNotFoundError\u001b[0m: No module named 'calculator'",
            "",
            "\u001b[0;31m---------------------------------------------------------------------------\u001b[0;32m\nNOTE: If your import is failing due to a missing package, you can\nmanually install dependencies using either !pip or !apt.\n\nTo view examples of installing some common dependencies, click the\n\"Open Examples\" button below.\n\u001b[0;31m---------------------------------------------------------------------------\u001b[0m\n"
          ],
          "errorDetails": {
            "actions": [
              {
                "action": "open_url",
                "actionText": "Open Examples",
                "url": "/notebooks/snippets/importing_libraries.ipynb"
              }
            ]
          }
        }
      ],
      "source": [
        "from calculator import basic\n",
        "from calculator import *"
      ]
    },
    {
      "cell_type": "markdown",
      "id": "bce87341",
      "metadata": {
        "id": "bce87341"
      },
      "source": [
        "Что произошло? Объясните причину возникшей проблемы.\n",
        "\n"
      ]
    },
    {
      "cell_type": "markdown",
      "source": [
        "<font color='green'>Ваш ответ (кликните два раза на эту ячейку, удалите содержимое и впишите ответ)</font>"
      ],
      "metadata": {
        "id": "KIGZTFcmWTWY"
      },
      "id": "KIGZTFcmWTWY"
    },
    {
      "cell_type": "markdown",
      "source": [
        "**в.** Верните строку `__all__` обратно. Попробуйте выполнить команду:"
      ],
      "metadata": {
        "id": "hASF8Jk9WWWf"
      },
      "id": "hASF8Jk9WWWf"
    },
    {
      "cell_type": "code",
      "execution_count": null,
      "id": "c0812720",
      "metadata": {
        "id": "c0812720"
      },
      "outputs": [],
      "source": [
        "from calculator import *"
      ]
    },
    {
      "cell_type": "markdown",
      "id": "a2fb1056",
      "metadata": {
        "id": "a2fb1056"
      },
      "source": [
        "Какие модули будут импортированы? Как можно управлять импортируемыми модулями с помощью `__all__`?"
      ]
    },
    {
      "cell_type": "markdown",
      "source": [
        "Будут импортированы модули basic и advanced.\n",
        "\n",
        "Модулями можно управлять с помощью import *"
      ],
      "metadata": {
        "id": "oKXMNpjnWe1v"
      },
      "id": "oKXMNpjnWe1v"
    },
    {
      "cell_type": "markdown",
      "id": "0ff9be0e",
      "metadata": {
        "id": "0ff9be0e"
      },
      "source": [
        "### **3. Абсолютный и относительный импорт**"
      ]
    },
    {
      "cell_type": "markdown",
      "id": "68879eed",
      "metadata": {
        "id": "68879eed"
      },
      "source": [
        "**а.** В файле `calculator/basic/__init__.py` замените относительные импорты на абсолютные:"
      ]
    },
    {
      "cell_type": "code",
      "execution_count": null,
      "id": "be1a46ca",
      "metadata": {
        "id": "be1a46ca"
      },
      "outputs": [],
      "source": [
        "from calculator.basic.addition import add\n",
        "from calculator.basic.subtraction import subtract"
      ]
    },
    {
      "cell_type": "markdown",
      "id": "85a363ec",
      "metadata": {
        "id": "85a363ec"
      },
      "source": [
        "Проверьте работоспособность пакета. Объясните разницу между относительным и абсолютным импортом. Какие преимущества и недостатки каждого из них?\n",
        "\n"
      ]
    },
    {
      "cell_type": "markdown",
      "source": [
        "Абсолютный импорт предоставляет полный путь от корня проекта.\n",
        "\n",
        "Относительный импорт предоставляет путь относительно текущего пакета.\n",
        "\n",
        "Преимущества абсолютного импорта:\n",
        "\n",
        "1. Читаем\n",
        "\n",
        "Преимущества относительного импорта:\n",
        "\n",
        "1. Короче запись"
      ],
      "metadata": {
        "id": "XjE-FQ0xWj0b"
      },
      "id": "XjE-FQ0xWj0b"
    },
    {
      "cell_type": "markdown",
      "source": [
        "**б.** Предположим, что структура пакета изменилась, и папка `basic` была переименована в `simple`. Объясните, как это повлияет на абсолютные и относительные импорты. Какой импорт легче поддерживать при реорганизации структуры пакета?"
      ],
      "metadata": {
        "id": "RURDowbzWiVX"
      },
      "id": "RURDowbzWiVX"
    },
    {
      "cell_type": "markdown",
      "source": [
        "Для абсолютного импорта нужно измененить на:\n",
        "\n",
        "from calculator.simple.addition\n",
        "\n",
        "Для относительного импорта ничто менять не нужно.\n",
        "\n",
        "Относительные импорты легче поддерживать при реорганизации структуры пакета."
      ],
      "metadata": {
        "id": "giLqxQx7WkBn"
      },
      "id": "giLqxQx7WkBn"
    },
    {
      "cell_type": "markdown",
      "id": "ed448ab3",
      "metadata": {
        "id": "ed448ab3"
      },
      "source": [
        "### **4. Добавление новых модулей**"
      ]
    },
    {
      "cell_type": "markdown",
      "source": [
        "**а.** Добавьте в пакет `calculator/basic` новый модуль `multiplication.py` с функцией `multiply(a, b)`, которая возвращает произведение `a` и `b`."
      ],
      "metadata": {
        "id": "AQQQ_pXGWpZS"
      },
      "id": "AQQQ_pXGWpZS"
    },
    {
      "cell_type": "code",
      "source": [
        "def multiply(a, b):\n",
        "    return a * b"
      ],
      "metadata": {
        "id": "2XE2e9eEXt9w"
      },
      "id": "2XE2e9eEXt9w",
      "execution_count": null,
      "outputs": []
    },
    {
      "cell_type": "markdown",
      "source": [
        "**б.** Обновите файл `calculator/basic/__init__.py`, чтобы функция `multiply` была доступна при импорте пакета."
      ],
      "metadata": {
        "id": "3HrK2DicWq4a"
      },
      "id": "3HrK2DicWq4a"
    },
    {
      "cell_type": "code",
      "source": [
        "from .addition import add\n",
        "from .subtraction import subtract\n",
        "from .multiplication import multiply\n",
        "\n",
        "__all__ = ['add', 'subtract', 'multiply']"
      ],
      "metadata": {
        "id": "mwIq6xozXx9s"
      },
      "id": "mwIq6xozXx9s",
      "execution_count": null,
      "outputs": []
    },
    {
      "cell_type": "markdown",
      "id": "ee203e60",
      "metadata": {
        "id": "ee203e60"
      },
      "source": [
        "\n",
        "\n",
        "\n",
        "\n",
        "**в.** В файле `main.py` импортируйте новую функцию и протестируйте ее."
      ]
    },
    {
      "cell_type": "code",
      "execution_count": null,
      "id": "68e1c50a",
      "metadata": {
        "id": "68e1c50a"
      },
      "outputs": [],
      "source": [
        "from calculator.basic import multiply\n",
        "\n",
        "print(multiply(4, 5))"
      ]
    },
    {
      "cell_type": "markdown",
      "id": "e488b22c",
      "metadata": {
        "id": "e488b22c"
      },
      "source": [
        "### 5. Исследование переменной `__name__`"
      ]
    },
    {
      "cell_type": "markdown",
      "id": "e8fe04ba",
      "metadata": {
        "id": "e8fe04ba"
      },
      "source": [
        "**а.** В файле `calculator/advanced/exponentiation.py` добавьте следующий код:"
      ]
    },
    {
      "cell_type": "code",
      "execution_count": null,
      "id": "6e63ece4",
      "metadata": {
        "id": "6e63ece4"
      },
      "outputs": [],
      "source": [
        "if __name__ == \"__main__\":\n",
        "    print(power(2, 5))"
      ]
    },
    {
      "cell_type": "markdown",
      "id": "68b13f10",
      "metadata": {
        "id": "68b13f10"
      },
      "source": [
        "**б.** Запустите файл `exponentiation.py` напрямую. Что произошло? Какой вывод вы получили?\n",
        "\n"
      ]
    },
    {
      "cell_type": "markdown",
      "source": [
        "При запуске напрямую выведет 32."
      ],
      "metadata": {
        "id": "zy-VgC4EXFNP"
      },
      "id": "zy-VgC4EXFNP"
    },
    {
      "cell_type": "markdown",
      "source": [
        "**в.** Импортируйте функцию `power` в `main.py` и запустите `main.py`. Выполняется ли код внутри блока `if __name__ == \"__main__\":` в файле `exponentiation.py` при импорте? Объясните, почему."
      ],
      "metadata": {
        "id": "FvsI0C7LXEPa"
      },
      "id": "FvsI0C7LXEPa"
    },
    {
      "cell_type": "markdown",
      "source": [
        "Код в блоке if __name__ == \"__main__\" не выполняется, потому что при импорте модуля переменная __name__ приравнивается к имени модуля (\"calculator.advanced.exponentiation\"), а не \"main\"."
      ],
      "metadata": {
        "id": "8GQE7e7rXFYf"
      },
      "id": "8GQE7e7rXFYf"
    },
    {
      "cell_type": "markdown",
      "id": "f3b886cc",
      "metadata": {
        "id": "f3b886cc"
      },
      "source": [
        "### **6. Изучение путей поиска модулей**"
      ]
    },
    {
      "cell_type": "markdown",
      "id": "04706edf",
      "metadata": {
        "id": "04706edf"
      },
      "source": [
        "**а.** Выведите переменную `sys.path` в `main.py`:"
      ]
    },
    {
      "cell_type": "code",
      "execution_count": null,
      "id": "1759325c",
      "metadata": {
        "id": "1759325c"
      },
      "outputs": [],
      "source": [
        "import sys\n",
        "print(sys.path)"
      ]
    },
    {
      "cell_type": "markdown",
      "id": "9e9babe0",
      "metadata": {
        "id": "9e9babe0"
      },
      "source": [
        "Объясните, какие пути в ней содержатся и как Python использует их для поиска модулей.\n",
        "\n"
      ]
    },
    {
      "cell_type": "markdown",
      "source": [
        "Содержится:\n",
        "\n",
        "1. Текущая директория\n",
        "2. Стандартный путь установки Python\n",
        "3. Путь из переменной окружения PYTHONPATH\n",
        "\n",
        "Python последовательно проверяет эти пути при поиске модулей."
      ],
      "metadata": {
        "id": "ZV4qGFfbXJ_a"
      },
      "id": "ZV4qGFfbXJ_a"
    },
    {
      "cell_type": "markdown",
      "source": [
        "**б.** Попробуйте переместить папку `calculator` в другую директорию, которая не входит в `sys.path`. Можете ли вы теперь импортировать пакет? Что нужно сделать, чтобы Python мог найти ваш пакет?"
      ],
      "metadata": {
        "id": "j4VNaSL2XIvc"
      },
      "id": "j4VNaSL2XIvc"
    },
    {
      "cell_type": "markdown",
      "source": [
        "После перемещения не получится импортировать модуль. Чтобы исправить проблему нужно добавить путь к calculator в Pythonpath."
      ],
      "metadata": {
        "id": "uy8f-RUkXKLe"
      },
      "id": "uy8f-RUkXKLe"
    },
    {
      "cell_type": "markdown",
      "id": "3f1e3ccc",
      "metadata": {
        "id": "3f1e3ccc"
      },
      "source": [
        "### **7. Создание подпакетов**"
      ]
    },
    {
      "cell_type": "markdown",
      "id": "7a8e87b9",
      "metadata": {
        "id": "7a8e87b9"
      },
      "source": [
        "**а.** Внутри `calculator/advanced` создайте подпакет `trigonometry` с функциями `sin`, `cos` и `tan`. Структура должна выглядеть так:"
      ]
    },
    {
      "cell_type": "code",
      "execution_count": null,
      "id": "4991737d",
      "metadata": {
        "id": "4991737d"
      },
      "outputs": [],
      "source": [
        "calculator/\n",
        "└── advanced/\n",
        "    ├── trigonometry/\n",
        "    │   ├── __init__.py\n",
        "    │   ├── sine.py\n",
        "    │   ├── cosine.py\n",
        "    │   └── tangent.py"
      ]
    },
    {
      "cell_type": "markdown",
      "id": "2982fcf5",
      "metadata": {
        "id": "2982fcf5"
      },
      "source": [
        "**б.** Реализуйте функции в соответствующих модулях, используя модуль `math` из стандартной библиотеки Python.\n",
        "\n",
        "**в.** Обновите `__init__.py` файлы, чтобы обеспечить корректный импорт функций.\n",
        "\n",
        "**г.** Импортируйте функции в `main.py` и протестируйте их."
      ]
    },
    {
      "cell_type": "markdown",
      "id": "68f95ac3",
      "metadata": {
        "id": "68f95ac3"
      },
      "source": [
        "### **8. Практика с относительным импортом**"
      ]
    },
    {
      "cell_type": "markdown",
      "id": "b5329b6b",
      "metadata": {
        "id": "b5329b6b"
      },
      "source": [
        "**а.** В файле `calculator/advanced/trigonometry/sine.py` попробуйте импортировать функцию `square_root` из модуля `root.py` двумя способами:\n",
        "\n",
        "1. Используя относительный импорт.\n",
        "2. Используя абсолютный импорт.\n",
        "\n",
        "**б.** Объясните, какой способ импорта сработал, а какой нет, и почему."
      ]
    },
    {
      "cell_type": "markdown",
      "source": [
        "Оба способа сработали."
      ],
      "metadata": {
        "id": "f5Q7sNgSXR9A"
      },
      "id": "f5Q7sNgSXR9A"
    },
    {
      "cell_type": "markdown",
      "source": [
        "### **9. Публикация на GitHub**"
      ],
      "metadata": {
        "id": "CWeoSKkUZvkS"
      },
      "id": "CWeoSKkUZvkS"
    },
    {
      "cell_type": "markdown",
      "source": [
        "После завершения всех заданий добавьте папку с проектом в Ваш локальный Git-репозиторий. Затем опубликуйте его на GitHub, создав **приватный** репозиторий.\n",
        "\n",
        "- **Вопросы и Ваши ответы на них разместите в файле README.md** Вашего приватного репозитория. Используйте стиль [разметки Markdown](https://docs.github.com/ru/get-started/writing-on-github/getting-started-with-writing-and-formatting-on-github/basic-writing-and-formatting-syntax). Для примеров можно обратиться к следующим ресурсам: [Markdown](https://skillbox.ru/media/code/yazyk-razmetki-markdown-shpargalka-po-sintaksisu-s-primerami/) и [Readme.md](https://habr.com/ru/articles/649363/).\n",
        "\n",
        "- **Далее выполните следующие шаги**:\n",
        "  1. Перейдите в настройки вашего репозитория:\n",
        "     - Откройте ваш новый приватный репозиторий.\n",
        "     - Нажмите на вкладку `Settings` (Настройки) в верхней части страницы.\n",
        "  2. Добавьте коллаборатора:\n",
        "     - В меню слева выберите `Collaborators` (Коллабораторы).\n",
        "     - Нажмите `Add people` (Добавить человека).\n",
        "     - Введите имя пользователя GitHub: **Alexandre77777**.\n",
        "     - Нажмите `Add Alexandre77777 to this repository` (Добавить коллаборатора).\n",
        "  3. Отправьте приглашение:\n",
        "     - Человек, которого вы пригласили, получит уведомление на GitHub и по электронной почте.\n",
        "     - Он должен будет принять приглашение, чтобы получить доступ к вашему репозиторию."
      ],
      "metadata": {
        "id": "VkEZWOGWwiFm"
      },
      "id": "VkEZWOGWwiFm"
    },
    {
      "cell_type": "markdown",
      "id": "4cee5f71",
      "metadata": {
        "id": "4cee5f71"
      },
      "source": [
        "## **Ожидаемые результаты**"
      ]
    },
    {
      "cell_type": "markdown",
      "id": "31e6a190",
      "metadata": {
        "id": "31e6a190"
      },
      "source": [
        "- Вы глубоко разберетесь в структуре пакета `calculator` и поймете, как организованы модули и функции внутри него.\n",
        "- Научитесь использовать и настраивать файлы `__init__.py` для управления импортом модулей и функций.\n",
        "- Будете уверенно использовать как абсолютный, так и относительный импорт, понимая их разницу и области применения.\n",
        "- Узнаете, как переменная `__name__` влияет на выполнение кода при импорте модулей.\n",
        "- Поймете, как Python ищет модули и пакеты, и как управлять путями поиска.\n",
        "- Сможете расширять пакеты, добавляя новые модули, функции и подпакеты.\n",
        "- Получите практический опыт работы с пакетами, что упростит разработку больших проектов в будущем."
      ]
    },
    {
      "cell_type": "markdown",
      "id": "001a12c1",
      "metadata": {
        "id": "001a12c1"
      },
      "source": [
        "## **Дополнительные задания (сделать обязательно)**"
      ]
    },
    {
      "cell_type": "markdown",
      "id": "e2f9040b",
      "metadata": {
        "id": "e2f9040b"
      },
      "source": [
        "- **1. Создание установочного скрипта**\n",
        "\n",
        "  Создайте файл `setup.py` для вашего пакета `calculator`, чтобы его можно было установить с помощью `pip install .`. ([См. теорию](https://colab.research.google.com/drive/1CxG5QjiWP9oEmMi4LBTo-ItNQ5DOndqA?usp=sharing#scrollTo=iThfVJ4Xewsk) )\n",
        "\n",
        "- **2. Документация пакета**\n",
        "\n",
        "  Добавьте документацию в ваш пакет, используя файлы `README.md` и строки документирования (docstrings) в функциях."
      ]
    },
    {
      "cell_type": "markdown",
      "id": "df3e6334",
      "metadata": {
        "id": "df3e6334"
      },
      "source": [
        "## **Советы по выполнению работы**"
      ]
    },
    {
      "cell_type": "markdown",
      "id": "1b19991f",
      "metadata": {
        "id": "1b19991f"
      },
      "source": [
        "- Постепенно выполняйте задания, проверяя работоспособность после каждого шага.\n",
        "- Обращайтесь к [официальной документации Python](https://docs.python.org/3/tutorial/modules.html) по модулям и пакетам для дополнительной информации."
      ]
    }
  ],
  "metadata": {
    "colab": {
      "provenance": [],
      "include_colab_link": true
    },
    "language_info": {
      "name": "python"
    },
    "kernelspec": {
      "name": "python3",
      "display_name": "Python 3"
    }
  },
  "nbformat": 4,
  "nbformat_minor": 5
}